{
  "nbformat": 4,
  "nbformat_minor": 0,
  "metadata": {
    "colab": {
      "provenance": []
    },
    "kernelspec": {
      "name": "python3",
      "display_name": "Python 3"
    },
    "language_info": {
      "name": "python"
    }
  },
  "cells": [
    {
      "cell_type": "code",
      "execution_count": 2,
      "metadata": {
        "colab": {
          "base_uri": "https://localhost:8080/"
        },
        "id": "0y_Vcz40McHz",
        "outputId": "382beebb-06d1-4fcb-c330-f4e0e7708d57"
      },
      "outputs": [
        {
          "output_type": "stream",
          "name": "stdout",
          "text": [
            "A: (2, 2)\n",
            "[[1 2]\n",
            " [3 4]]\n",
            "B: (2, 2)\n",
            "[[5 6]\n",
            " [7 8]] (2, 2)\n"
          ]
        }
      ],
      "source": [
        "import numpy as np\n",
        "A = np.array([\n",
        "    [1, 2],\n",
        "    [3, 4]\n",
        "])\n",
        "B = np.array([\n",
        "    [5, 6],\n",
        "    [7, 8]\n",
        "])\n",
        "print(\"A:\", A.shape)\n",
        "print(A)\n",
        "\n",
        "print(\"B:\", B.shape)\n",
        "print(B, A.shape)\n"
      ]
    },
    {
      "cell_type": "code",
      "source": [
        "C=A+B\n",
        "D=A-B\n",
        "E =A/B\n",
        "F = A*B\n",
        "\n",
        "print(E)\n",
        "print(F)"
      ],
      "metadata": {
        "colab": {
          "base_uri": "https://localhost:8080/"
        },
        "id": "l0XGOr9YNh9z",
        "outputId": "b2bda431-0602-4d78-b9cc-a5572f55ded0"
      },
      "execution_count": 14,
      "outputs": [
        {
          "output_type": "stream",
          "name": "stdout",
          "text": [
            "[[0.2        0.33333333]\n",
            " [0.42857143 0.5       ]]\n",
            "[[ 5 12]\n",
            " [21 32]]\n"
          ]
        }
      ]
    },
    {
      "cell_type": "code",
      "source": [
        "result = A.sum()\n",
        "print(\"result is:\", result)"
      ],
      "metadata": {
        "colab": {
          "base_uri": "https://localhost:8080/"
        },
        "id": "im64H-J6NxS3",
        "outputId": "e8c0ae18-e997-4b00-d8a2-50751a7cd2bf"
      },
      "execution_count": 5,
      "outputs": [
        {
          "output_type": "stream",
          "name": "stdout",
          "text": [
            "result is: 10\n"
          ]
        }
      ]
    },
    {
      "cell_type": "code",
      "source": [
        "# Explore what is vector norm and how to calculate using numpy, Also explore where to use it"
      ],
      "metadata": {
        "id": "2Cnvro1EN3a3"
      },
      "execution_count": 6,
      "outputs": []
    },
    {
      "cell_type": "code",
      "source": [
        "# Explore Eigen Calues and Eigen Vectors, and how to calculate using numpy, Also explore where to use it"
      ],
      "metadata": {
        "id": "qF-bNskwN-2J"
      },
      "execution_count": 7,
      "outputs": []
    },
    {
      "cell_type": "code",
      "source": [
        "print(A.min())"
      ],
      "metadata": {
        "colab": {
          "base_uri": "https://localhost:8080/"
        },
        "id": "RDNVeMZbON7k",
        "outputId": "f76ca2c8-4b30-4f7d-d54b-650482a22774"
      },
      "execution_count": 8,
      "outputs": [
        {
          "output_type": "stream",
          "name": "stdout",
          "text": [
            "1\n"
          ]
        }
      ]
    },
    {
      "cell_type": "code",
      "source": [
        "print(A.max())"
      ],
      "metadata": {
        "colab": {
          "base_uri": "https://localhost:8080/"
        },
        "id": "s2kpSrgMOUfT",
        "outputId": "81b2f5d9-ec9b-414b-a45c-f425b64062d1"
      },
      "execution_count": 9,
      "outputs": [
        {
          "output_type": "stream",
          "name": "stdout",
          "text": [
            "4\n"
          ]
        }
      ]
    },
    {
      "cell_type": "code",
      "source": [
        "P = np.array([\n",
        "    [1, 2, 3],\n",
        "    [4, 5, 6]\n",
        "])\n",
        "# Q = np.transpose(P)\n",
        "Q=P.T #transpose 2nd method\n",
        "print(P)\n",
        "print(Q)"
      ],
      "metadata": {
        "colab": {
          "base_uri": "https://localhost:8080/"
        },
        "id": "E1VDX6LZOW7R",
        "outputId": "bea94db7-21e9-493e-82cc-bcd5185b1f0e"
      },
      "execution_count": 12,
      "outputs": [
        {
          "output_type": "stream",
          "name": "stdout",
          "text": [
            "[[1 2 3]\n",
            " [4 5 6]]\n",
            "[[1 4]\n",
            " [2 5]\n",
            " [3 6]]\n"
          ]
        }
      ]
    },
    {
      "cell_type": "code",
      "source": [
        "R = np.array([\n",
        "    [1, 2],\n",
        "    [3, 4]\n",
        "])\n",
        "R_inv = np.linalg.inv(R)\n",
        "print(R)\n",
        "print(R_inv)"
      ],
      "metadata": {
        "colab": {
          "base_uri": "https://localhost:8080/"
        },
        "id": "_ocn9OXgOjd7",
        "outputId": "7015c2ce-b632-4a71-911f-93e2a094df5c"
      },
      "execution_count": 13,
      "outputs": [
        {
          "output_type": "stream",
          "name": "stdout",
          "text": [
            "[[1 2]\n",
            " [3 4]]\n",
            "[[-2.   1. ]\n",
            " [ 1.5 -0.5]]\n"
          ]
        }
      ]
    },
    {
      "cell_type": "code",
      "source": [
        "# why we use matrix dot product ->mage Processing:"
      ],
      "metadata": {
        "id": "4Nqr3EbSPNcd"
      },
      "execution_count": 15,
      "outputs": []
    },
    {
      "cell_type": "code",
      "source": [
        "A = np.array([\n",
        "    [1, 2],\n",
        "    [3, 4]\n",
        "])\n",
        "B = np.array([\n",
        "    [5, 6],\n",
        "    [7, 8]\n",
        "])\n",
        "C = np.dot(A, B)\n",
        "print(C)"
      ],
      "metadata": {
        "colab": {
          "base_uri": "https://localhost:8080/"
        },
        "id": "eoZIiiBHQdQK",
        "outputId": "2af51d45-8d95-41e7-e5df-2ea14302a341"
      },
      "execution_count": 16,
      "outputs": [
        {
          "output_type": "stream",
          "name": "stdout",
          "text": [
            "[[19 22]\n",
            " [43 50]]\n"
          ]
        }
      ]
    },
    {
      "cell_type": "code",
      "source": [
        "A = np.array([\n",
        "    [4, 3],\n",
        "    [3, 2]\n",
        "])\n",
        "A_inv = np.linalg.inv(A)\n",
        "print(A_inv)\n",
        "D = np.dot(A, A_inv)\n",
        "print(D)"
      ],
      "metadata": {
        "colab": {
          "base_uri": "https://localhost:8080/"
        },
        "id": "Dl0IZNGZQlzv",
        "outputId": "ba4bd15b-3de1-4c30-fc18-60d9b131c401"
      },
      "execution_count": 20,
      "outputs": [
        {
          "output_type": "stream",
          "name": "stdout",
          "text": [
            "[[-2.  3.]\n",
            " [ 3. -4.]]\n",
            "[[1. 0.]\n",
            " [0. 1.]]\n"
          ]
        }
      ]
    },
    {
      "cell_type": "code",
      "source": [],
      "metadata": {
        "id": "oTyBdHT5RNz-"
      },
      "execution_count": null,
      "outputs": []
    }
  ]
}